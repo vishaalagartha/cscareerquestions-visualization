{
 "cells": [
  {
   "cell_type": "code",
   "execution_count": 65,
   "metadata": {},
   "outputs": [],
   "source": [
    "import pandas as pd\n",
    "import re"
   ]
  },
  {
   "cell_type": "code",
   "execution_count": 2,
   "metadata": {},
   "outputs": [],
   "source": [
    "with open('data.csv', 'r') as f:\n",
    "    df = pd.read_csv(f)"
   ]
  },
  {
   "cell_type": "code",
   "execution_count": 5,
   "metadata": {},
   "outputs": [
    {
     "data": {
      "text/plain": [
       "['Timestamp',\n",
       " 'The currency your compensation will be represented in is the...',\n",
       " 'Are you salaried or hourly?',\n",
       " 'What is your approximate annual total compensation?',\n",
       " 'What is your annual gross base pay?',\n",
       " 'If you received a signing bonus, how much did you receive?',\n",
       " 'If you receive a bonus, please input the approximate value of your bonus.',\n",
       " 'If you were granted stock upon hiring, what was the value of your initial grant?',\n",
       " 'If you get additional stock compensation (refreshers/discretionary grants/etc.), what was the value of the most recent grant?',\n",
       " 'Did you negotiate for your compensation?',\n",
       " 'Choose the option that best fits your job type',\n",
       " 'What is your job title?',\n",
       " 'Name of company?',\n",
       " 'Is your company publicly-traded or privately-held?',\n",
       " 'What industry is your company in?',\n",
       " 'What percentage of your job is remote?',\n",
       " 'How much cumulative work experience do you have in computer science or related fields?',\n",
       " 'How long have you worked for your current employer?',\n",
       " 'How long have you been in your current position?',\n",
       " 'What is your highest level of educational attainment? ',\n",
       " 'What was the major or concentration of your highest level of completed education?',\n",
       " \"If you are currently enrolled in educational pursuits, please select the response that best matches your current enrollment. If you haven't started a program yet, please pick the one that best matches what you will start in the near future.\",\n",
       " 'What was the major or concentration of your highest level of current enrollment?',\n",
       " 'What is your age?',\n",
       " 'What is your gender?',\n",
       " 'What is your ethnicity (check all that apply)',\n",
       " 'What is your primary country of residence?',\n",
       " 'How would you categorize the cost of living where you are?']"
      ]
     },
     "execution_count": 5,
     "metadata": {},
     "output_type": "execute_result"
    }
   ],
   "source": [
    "list(df.columns)"
   ]
  },
  {
   "cell_type": "code",
   "execution_count": 28,
   "metadata": {},
   "outputs": [],
   "source": [
    "columns = ['Timestamp',\n",
    " 'Currency',\n",
    " '',\n",
    " 'Annual total compensation',\n",
    " 'Annual gross base pay',\n",
    " 'Signing bonus',\n",
    " 'Value of bonus',\n",
    " 'Value of initial stock',\n",
    " 'Value of additional stock',\n",
    " 'Negotiated or not',\n",
    " 'Job type',\n",
    " 'Job title',\n",
    " 'Name of company',\n",
    " 'Publicly-traded or privately-held',\n",
    " 'Industry',\n",
    " 'Location',\n",
    " 'Cumulative work experience',\n",
    " 'Time under employer',\n",
    " 'Time in current position',\n",
    " 'Education level',\n",
    " 'Major/Concentration',\n",
    " '',\n",
    "'',\n",
    " 'Age',\n",
    " 'Gender',\n",
    " 'Ethnicity',\n",
    " 'Country',\n",
    " 'Cost of living']"
   ]
  },
  {
   "cell_type": "code",
   "execution_count": 29,
   "metadata": {},
   "outputs": [],
   "source": [
    "df.columns = columns"
   ]
  },
  {
   "cell_type": "code",
   "execution_count": 55,
   "metadata": {},
   "outputs": [],
   "source": [
    "def conversion(s):\n",
    "    if s!=s: return float('nan')\n",
    "    if len(s)==0: return float('NaN')\n",
    "    match = re.findall(r'(\\d*)yr (\\d*)mo', s)[0]\n",
    "    return int(match[0])*12+int(match[1])"
   ]
  },
  {
   "cell_type": "code",
   "execution_count": 56,
   "metadata": {},
   "outputs": [],
   "source": [
    "df['Cumulative work experience'] = df['Cumulative work experience'].apply(conversion)"
   ]
  },
  {
   "cell_type": "code",
   "execution_count": 57,
   "metadata": {},
   "outputs": [
    {
     "data": {
      "text/plain": [
       "0        0.0\n",
       "1      240.0\n",
       "2       24.0\n",
       "3       84.0\n",
       "4       77.0\n",
       "       ...  \n",
       "535     30.0\n",
       "536    240.0\n",
       "537    144.0\n",
       "538      0.0\n",
       "539     48.0\n",
       "Name: Cumulative work experience, Length: 540, dtype: float64"
      ]
     },
     "execution_count": 57,
     "metadata": {},
     "output_type": "execute_result"
    }
   ],
   "source": [
    "df['Cumulative work experience']"
   ]
  },
  {
   "cell_type": "code",
   "execution_count": 58,
   "metadata": {},
   "outputs": [],
   "source": [
    "df['Time under employer'] = df['Time under employer'].apply(conversion)"
   ]
  },
  {
   "cell_type": "code",
   "execution_count": 59,
   "metadata": {},
   "outputs": [],
   "source": [
    "df['Time in current position'] = df['Time in current position'].apply(conversion)"
   ]
  },
  {
   "cell_type": "code",
   "execution_count": 60,
   "metadata": {},
   "outputs": [
    {
     "data": {
      "text/plain": [
       "0         US Dollar (USD)\n",
       "1         US Dollar (USD)\n",
       "2         US Dollar (USD)\n",
       "3      Indian Rupee (INR)\n",
       "4      Indian Rupee (INR)\n",
       "              ...        \n",
       "535       US Dollar (USD)\n",
       "536       US Dollar (USD)\n",
       "537       US Dollar (USD)\n",
       "538       US Dollar (USD)\n",
       "539       US Dollar (USD)\n",
       "Name: Currency, Length: 540, dtype: object"
      ]
     },
     "execution_count": 60,
     "metadata": {},
     "output_type": "execute_result"
    }
   ],
   "source": [
    "df['Currency']"
   ]
  },
  {
   "cell_type": "code",
   "execution_count": 61,
   "metadata": {},
   "outputs": [],
   "source": [
    "df = df[df['Currency']=='US Dollar (USD)']"
   ]
  },
  {
   "cell_type": "code",
   "execution_count": 62,
   "metadata": {},
   "outputs": [
    {
     "data": {
      "text/html": [
       "<div>\n",
       "<style scoped>\n",
       "    .dataframe tbody tr th:only-of-type {\n",
       "        vertical-align: middle;\n",
       "    }\n",
       "\n",
       "    .dataframe tbody tr th {\n",
       "        vertical-align: top;\n",
       "    }\n",
       "\n",
       "    .dataframe thead th {\n",
       "        text-align: right;\n",
       "    }\n",
       "</style>\n",
       "<table border=\"1\" class=\"dataframe\">\n",
       "  <thead>\n",
       "    <tr style=\"text-align: right;\">\n",
       "      <th></th>\n",
       "      <th>Timestamp</th>\n",
       "      <th>Currency</th>\n",
       "      <th></th>\n",
       "      <th>Annual total compensation</th>\n",
       "      <th>Annual gross base pay</th>\n",
       "      <th>Signing bonus</th>\n",
       "      <th>Value of bonus</th>\n",
       "      <th>Value of initial stock</th>\n",
       "      <th>Value of additional stock</th>\n",
       "      <th>Negotiated or not</th>\n",
       "      <th>...</th>\n",
       "      <th>Time in current position</th>\n",
       "      <th>Education level</th>\n",
       "      <th>Major/Concentration</th>\n",
       "      <th></th>\n",
       "      <th></th>\n",
       "      <th>Age</th>\n",
       "      <th>Gender</th>\n",
       "      <th>Ethnicity</th>\n",
       "      <th>Country</th>\n",
       "      <th>Cost of living</th>\n",
       "    </tr>\n",
       "  </thead>\n",
       "  <tbody>\n",
       "    <tr>\n",
       "      <th>0</th>\n",
       "      <td>11/23/2018 21:55:19</td>\n",
       "      <td>US Dollar (USD)</td>\n",
       "      <td>Salary</td>\n",
       "      <td>100000.0</td>\n",
       "      <td>100000.0</td>\n",
       "      <td>1500.0</td>\n",
       "      <td>NaN</td>\n",
       "      <td>NaN</td>\n",
       "      <td>NaN</td>\n",
       "      <td>No</td>\n",
       "      <td>...</td>\n",
       "      <td>0.0</td>\n",
       "      <td>High school / GED</td>\n",
       "      <td>Computer Science</td>\n",
       "      <td>Pursuing Bachelor's (4-year) Degree</td>\n",
       "      <td>Computer Science</td>\n",
       "      <td>19.0</td>\n",
       "      <td>Male</td>\n",
       "      <td>Asian</td>\n",
       "      <td>United States</td>\n",
       "      <td>NaN</td>\n",
       "    </tr>\n",
       "    <tr>\n",
       "      <th>1</th>\n",
       "      <td>11/24/2018 23:39:33</td>\n",
       "      <td>US Dollar (USD)</td>\n",
       "      <td>Salary</td>\n",
       "      <td>84560.0</td>\n",
       "      <td>79560.0</td>\n",
       "      <td>NaN</td>\n",
       "      <td>5000.0</td>\n",
       "      <td>NaN</td>\n",
       "      <td>NaN</td>\n",
       "      <td>No</td>\n",
       "      <td>...</td>\n",
       "      <td>32.0</td>\n",
       "      <td>Some college/university (did not graduate)</td>\n",
       "      <td>High School</td>\n",
       "      <td>Pursuing Bachelor's (4-year) Degree</td>\n",
       "      <td>NaN</td>\n",
       "      <td>36.0</td>\n",
       "      <td>Male</td>\n",
       "      <td>White</td>\n",
       "      <td>United States</td>\n",
       "      <td>NaN</td>\n",
       "    </tr>\n",
       "    <tr>\n",
       "      <th>2</th>\n",
       "      <td>11/25/2018 1:21:36</td>\n",
       "      <td>US Dollar (USD)</td>\n",
       "      <td>Salary</td>\n",
       "      <td>65000.0</td>\n",
       "      <td>64000.0</td>\n",
       "      <td>0.0</td>\n",
       "      <td>0.0</td>\n",
       "      <td>0.0</td>\n",
       "      <td>0.0</td>\n",
       "      <td>Yes</td>\n",
       "      <td>...</td>\n",
       "      <td>24.0</td>\n",
       "      <td>Bachelor's (4-year) Degree</td>\n",
       "      <td>Electrical Engineer</td>\n",
       "      <td>Other</td>\n",
       "      <td>Electrical Engineer</td>\n",
       "      <td>NaN</td>\n",
       "      <td>Male</td>\n",
       "      <td>White</td>\n",
       "      <td>united states</td>\n",
       "      <td>NaN</td>\n",
       "    </tr>\n",
       "    <tr>\n",
       "      <th>5</th>\n",
       "      <td>11/26/2018 9:23:48</td>\n",
       "      <td>US Dollar (USD)</td>\n",
       "      <td>Salary</td>\n",
       "      <td>60000.0</td>\n",
       "      <td>60000.0</td>\n",
       "      <td>0.0</td>\n",
       "      <td>0.0</td>\n",
       "      <td>0.0</td>\n",
       "      <td>0.0</td>\n",
       "      <td>No</td>\n",
       "      <td>...</td>\n",
       "      <td>1.0</td>\n",
       "      <td>Bachelor's (4-year) Degree</td>\n",
       "      <td>Chemistry</td>\n",
       "      <td>Pursuing Master's Degree</td>\n",
       "      <td>Software Engineering</td>\n",
       "      <td>23.0</td>\n",
       "      <td>Male</td>\n",
       "      <td>White</td>\n",
       "      <td>United States of America</td>\n",
       "      <td>NaN</td>\n",
       "    </tr>\n",
       "    <tr>\n",
       "      <th>7</th>\n",
       "      <td>11/28/2018 0:55:38</td>\n",
       "      <td>US Dollar (USD)</td>\n",
       "      <td>Hourly</td>\n",
       "      <td>90000.0</td>\n",
       "      <td>86000.0</td>\n",
       "      <td>NaN</td>\n",
       "      <td>4000.0</td>\n",
       "      <td>NaN</td>\n",
       "      <td>NaN</td>\n",
       "      <td>No</td>\n",
       "      <td>...</td>\n",
       "      <td>1.0</td>\n",
       "      <td>Bachelor's (4-year) Degree</td>\n",
       "      <td>Computer Science</td>\n",
       "      <td>Other</td>\n",
       "      <td>NaN</td>\n",
       "      <td>25.0</td>\n",
       "      <td>Male</td>\n",
       "      <td>Hispanic/Latino</td>\n",
       "      <td>USA</td>\n",
       "      <td>NaN</td>\n",
       "    </tr>\n",
       "    <tr>\n",
       "      <th>...</th>\n",
       "      <td>...</td>\n",
       "      <td>...</td>\n",
       "      <td>...</td>\n",
       "      <td>...</td>\n",
       "      <td>...</td>\n",
       "      <td>...</td>\n",
       "      <td>...</td>\n",
       "      <td>...</td>\n",
       "      <td>...</td>\n",
       "      <td>...</td>\n",
       "      <td>...</td>\n",
       "      <td>...</td>\n",
       "      <td>...</td>\n",
       "      <td>...</td>\n",
       "      <td>...</td>\n",
       "      <td>...</td>\n",
       "      <td>...</td>\n",
       "      <td>...</td>\n",
       "      <td>...</td>\n",
       "      <td>...</td>\n",
       "      <td>...</td>\n",
       "    </tr>\n",
       "    <tr>\n",
       "      <th>535</th>\n",
       "      <td>6/3/2020 13:12:42</td>\n",
       "      <td>US Dollar (USD)</td>\n",
       "      <td>Salary</td>\n",
       "      <td>55000.0</td>\n",
       "      <td>50000.0</td>\n",
       "      <td>NaN</td>\n",
       "      <td>NaN</td>\n",
       "      <td>NaN</td>\n",
       "      <td>NaN</td>\n",
       "      <td>No</td>\n",
       "      <td>...</td>\n",
       "      <td>12.0</td>\n",
       "      <td>Bachelor's (4-year) Degree</td>\n",
       "      <td>Computer Science</td>\n",
       "      <td>Pursuing Master's Degree</td>\n",
       "      <td>Computer Science</td>\n",
       "      <td>25.0</td>\n",
       "      <td>Male</td>\n",
       "      <td>White</td>\n",
       "      <td>USA</td>\n",
       "      <td>Medium cost of living</td>\n",
       "    </tr>\n",
       "    <tr>\n",
       "      <th>536</th>\n",
       "      <td>6/3/2020 13:50:19</td>\n",
       "      <td>US Dollar (USD)</td>\n",
       "      <td>Salary</td>\n",
       "      <td>750000.0</td>\n",
       "      <td>210000.0</td>\n",
       "      <td>70000.0</td>\n",
       "      <td>0.0</td>\n",
       "      <td>2500000.0</td>\n",
       "      <td>312000.0</td>\n",
       "      <td>Yes</td>\n",
       "      <td>...</td>\n",
       "      <td>12.0</td>\n",
       "      <td>High school / GED</td>\n",
       "      <td>-</td>\n",
       "      <td>Other</td>\n",
       "      <td>NaN</td>\n",
       "      <td>NaN</td>\n",
       "      <td>Male</td>\n",
       "      <td>NaN</td>\n",
       "      <td>NaN</td>\n",
       "      <td>NaN</td>\n",
       "    </tr>\n",
       "    <tr>\n",
       "      <th>537</th>\n",
       "      <td>6/11/2020 18:38:46</td>\n",
       "      <td>US Dollar (USD)</td>\n",
       "      <td>Salary</td>\n",
       "      <td>105000.0</td>\n",
       "      <td>105000.0</td>\n",
       "      <td>NaN</td>\n",
       "      <td>NaN</td>\n",
       "      <td>NaN</td>\n",
       "      <td>NaN</td>\n",
       "      <td>Yes</td>\n",
       "      <td>...</td>\n",
       "      <td>24.0</td>\n",
       "      <td>Bachelor's (4-year) Degree</td>\n",
       "      <td>Mathematics</td>\n",
       "      <td>Other</td>\n",
       "      <td>NaN</td>\n",
       "      <td>29.0</td>\n",
       "      <td>Male</td>\n",
       "      <td>White</td>\n",
       "      <td>NaN</td>\n",
       "      <td>Low cost of living</td>\n",
       "    </tr>\n",
       "    <tr>\n",
       "      <th>538</th>\n",
       "      <td>6/15/2020 0:57:32</td>\n",
       "      <td>US Dollar (USD)</td>\n",
       "      <td>Salary</td>\n",
       "      <td>55000.0</td>\n",
       "      <td>55000.0</td>\n",
       "      <td>0.0</td>\n",
       "      <td>0.0</td>\n",
       "      <td>0.0</td>\n",
       "      <td>0.0</td>\n",
       "      <td>No</td>\n",
       "      <td>...</td>\n",
       "      <td>6.0</td>\n",
       "      <td>Associate's (2-year) Degree</td>\n",
       "      <td>Computer Science</td>\n",
       "      <td>Pursuing Bachelor's (4-year) Degree</td>\n",
       "      <td>Computer Science</td>\n",
       "      <td>30.0</td>\n",
       "      <td>Male</td>\n",
       "      <td>White</td>\n",
       "      <td>USA</td>\n",
       "      <td>Low cost of living</td>\n",
       "    </tr>\n",
       "    <tr>\n",
       "      <th>539</th>\n",
       "      <td>6/15/2020 2:02:36</td>\n",
       "      <td>US Dollar (USD)</td>\n",
       "      <td>Salary</td>\n",
       "      <td>200000.0</td>\n",
       "      <td>150000.0</td>\n",
       "      <td>5000.0</td>\n",
       "      <td>NaN</td>\n",
       "      <td>NaN</td>\n",
       "      <td>NaN</td>\n",
       "      <td>No</td>\n",
       "      <td>...</td>\n",
       "      <td>12.0</td>\n",
       "      <td>Bachelor's (4-year) Degree</td>\n",
       "      <td>Unrelated to CS</td>\n",
       "      <td>Other</td>\n",
       "      <td>NONE</td>\n",
       "      <td>25.0</td>\n",
       "      <td>Male</td>\n",
       "      <td>White</td>\n",
       "      <td>USA</td>\n",
       "      <td>Medium cost of living</td>\n",
       "    </tr>\n",
       "  </tbody>\n",
       "</table>\n",
       "<p>413 rows × 28 columns</p>\n",
       "</div>"
      ],
      "text/plain": [
       "               Timestamp         Currency          Annual total compensation  \\\n",
       "0    11/23/2018 21:55:19  US Dollar (USD)  Salary                   100000.0   \n",
       "1    11/24/2018 23:39:33  US Dollar (USD)  Salary                    84560.0   \n",
       "2     11/25/2018 1:21:36  US Dollar (USD)  Salary                    65000.0   \n",
       "5     11/26/2018 9:23:48  US Dollar (USD)  Salary                    60000.0   \n",
       "7     11/28/2018 0:55:38  US Dollar (USD)  Hourly                    90000.0   \n",
       "..                   ...              ...     ...                        ...   \n",
       "535    6/3/2020 13:12:42  US Dollar (USD)  Salary                    55000.0   \n",
       "536    6/3/2020 13:50:19  US Dollar (USD)  Salary                   750000.0   \n",
       "537   6/11/2020 18:38:46  US Dollar (USD)  Salary                   105000.0   \n",
       "538    6/15/2020 0:57:32  US Dollar (USD)  Salary                    55000.0   \n",
       "539    6/15/2020 2:02:36  US Dollar (USD)  Salary                   200000.0   \n",
       "\n",
       "     Annual gross base pay  Signing bonus  Value of bonus  \\\n",
       "0                 100000.0         1500.0             NaN   \n",
       "1                  79560.0            NaN          5000.0   \n",
       "2                  64000.0            0.0             0.0   \n",
       "5                  60000.0            0.0             0.0   \n",
       "7                  86000.0            NaN          4000.0   \n",
       "..                     ...            ...             ...   \n",
       "535                50000.0            NaN             NaN   \n",
       "536               210000.0        70000.0             0.0   \n",
       "537               105000.0            NaN             NaN   \n",
       "538                55000.0            0.0             0.0   \n",
       "539               150000.0         5000.0             NaN   \n",
       "\n",
       "     Value of initial stock  Value of additional stock Negotiated or not  ...  \\\n",
       "0                       NaN                        NaN                No  ...   \n",
       "1                       NaN                        NaN                No  ...   \n",
       "2                       0.0                        0.0               Yes  ...   \n",
       "5                       0.0                        0.0                No  ...   \n",
       "7                       NaN                        NaN                No  ...   \n",
       "..                      ...                        ...               ...  ...   \n",
       "535                     NaN                        NaN                No  ...   \n",
       "536               2500000.0                   312000.0               Yes  ...   \n",
       "537                     NaN                        NaN               Yes  ...   \n",
       "538                     0.0                        0.0                No  ...   \n",
       "539                     NaN                        NaN                No  ...   \n",
       "\n",
       "    Time in current position                             Education level  \\\n",
       "0                        0.0                           High school / GED   \n",
       "1                       32.0  Some college/university (did not graduate)   \n",
       "2                       24.0                  Bachelor's (4-year) Degree   \n",
       "5                        1.0                  Bachelor's (4-year) Degree   \n",
       "7                        1.0                  Bachelor's (4-year) Degree   \n",
       "..                       ...                                         ...   \n",
       "535                     12.0                  Bachelor's (4-year) Degree   \n",
       "536                     12.0                           High school / GED   \n",
       "537                     24.0                  Bachelor's (4-year) Degree   \n",
       "538                      6.0                 Associate's (2-year) Degree   \n",
       "539                     12.0                  Bachelor's (4-year) Degree   \n",
       "\n",
       "     Major/Concentration                                       \\\n",
       "0       Computer Science  Pursuing Bachelor's (4-year) Degree   \n",
       "1            High School  Pursuing Bachelor's (4-year) Degree   \n",
       "2    Electrical Engineer                                Other   \n",
       "5              Chemistry             Pursuing Master's Degree   \n",
       "7       Computer Science                                Other   \n",
       "..                   ...                                  ...   \n",
       "535     Computer Science             Pursuing Master's Degree   \n",
       "536                    -                                Other   \n",
       "537         Mathematics                                 Other   \n",
       "538     Computer Science  Pursuing Bachelor's (4-year) Degree   \n",
       "539      Unrelated to CS                                Other   \n",
       "\n",
       "                            Age  Gender        Ethnicity  \\\n",
       "0        Computer Science  19.0    Male            Asian   \n",
       "1                     NaN  36.0    Male            White   \n",
       "2     Electrical Engineer   NaN    Male            White   \n",
       "5    Software Engineering  23.0    Male            White   \n",
       "7                     NaN  25.0    Male  Hispanic/Latino   \n",
       "..                    ...   ...     ...              ...   \n",
       "535      Computer Science  25.0    Male            White   \n",
       "536                   NaN   NaN    Male              NaN   \n",
       "537                   NaN  29.0    Male            White   \n",
       "538      Computer Science  30.0    Male            White   \n",
       "539                  NONE  25.0    Male            White   \n",
       "\n",
       "                      Country         Cost of living  \n",
       "0               United States                    NaN  \n",
       "1               United States                    NaN  \n",
       "2               united states                    NaN  \n",
       "5    United States of America                    NaN  \n",
       "7                         USA                    NaN  \n",
       "..                        ...                    ...  \n",
       "535                       USA  Medium cost of living  \n",
       "536                       NaN                    NaN  \n",
       "537                       NaN     Low cost of living  \n",
       "538                       USA     Low cost of living  \n",
       "539                       USA  Medium cost of living  \n",
       "\n",
       "[413 rows x 28 columns]"
      ]
     },
     "execution_count": 62,
     "metadata": {},
     "output_type": "execute_result"
    }
   ],
   "source": [
    "df"
   ]
  },
  {
   "cell_type": "code",
   "execution_count": 63,
   "metadata": {},
   "outputs": [],
   "source": [
    "df.to_csv('data.csv', index=False)"
   ]
  },
  {
   "cell_type": "code",
   "execution_count": 64,
   "metadata": {},
   "outputs": [
    {
     "data": {
      "text/plain": [
       "Index(['Timestamp', 'Currency', '', 'Annual total compensation',\n",
       "       'Annual gross base pay', 'Signing bonus', 'Value of bonus',\n",
       "       'Value of initial stock', 'Value of additional stock',\n",
       "       'Negotiated or not', 'Job type', 'Job title', 'Name of company',\n",
       "       'Publicly-traded or privately-held', 'Industry', 'Location',\n",
       "       'Cumulative work experience', 'Time under employer',\n",
       "       'Time in current position', 'Education level', 'Major/Concentration',\n",
       "       '', '', 'Age', 'Gender', 'Ethnicity', 'Country', 'Cost of living'],\n",
       "      dtype='object')"
      ]
     },
     "execution_count": 64,
     "metadata": {},
     "output_type": "execute_result"
    }
   ],
   "source": [
    "df.columns"
   ]
  },
  {
   "cell_type": "code",
   "execution_count": 66,
   "metadata": {},
   "outputs": [
    {
     "data": {
      "text/plain": [
       "Index(['Timestamp', 'Currency', '', 'Annual total compensation',\n",
       "       'Annual gross base pay', 'Signing bonus', 'Value of bonus',\n",
       "       'Value of initial stock', 'Value of additional stock',\n",
       "       'Negotiated or not', 'Job type', 'Job title', 'Name of company',\n",
       "       'Publicly-traded or privately-held', 'Industry', 'Location',\n",
       "       'Cumulative work experience', 'Time under employer',\n",
       "       'Time in current position', 'Education level', 'Major/Concentration',\n",
       "       '', '', 'Age', 'Gender', 'Ethnicity', 'Country', 'Cost of living'],\n",
       "      dtype='object')"
      ]
     },
     "execution_count": 66,
     "metadata": {},
     "output_type": "execute_result"
    }
   ],
   "source": [
    "df.columns"
   ]
  },
  {
   "cell_type": "code",
   "execution_count": 67,
   "metadata": {},
   "outputs": [
    {
     "name": "stderr",
     "output_type": "stream",
     "text": [
      "/Library/Frameworks/Python.framework/Versions/3.6/lib/python3.6/site-packages/ipykernel_launcher.py:1: SettingWithCopyWarning: \n",
      "A value is trying to be set on a copy of a slice from a DataFrame.\n",
      "Try using .loc[row_indexer,col_indexer] = value instead\n",
      "\n",
      "See the caveats in the documentation: http://pandas.pydata.org/pandas-docs/stable/user_guide/indexing.html#returning-a-view-versus-a-copy\n",
      "  \"\"\"Entry point for launching an IPython kernel.\n"
     ]
    }
   ],
   "source": [
    "df['Annual total compensation'] = df['Annual total compensation'].apply(lambda x: x/1000)"
   ]
  },
  {
   "cell_type": "code",
   "execution_count": 70,
   "metadata": {},
   "outputs": [
    {
     "name": "stderr",
     "output_type": "stream",
     "text": [
      "/Library/Frameworks/Python.framework/Versions/3.6/lib/python3.6/site-packages/ipykernel_launcher.py:1: SettingWithCopyWarning: \n",
      "A value is trying to be set on a copy of a slice from a DataFrame.\n",
      "Try using .loc[row_indexer,col_indexer] = value instead\n",
      "\n",
      "See the caveats in the documentation: http://pandas.pydata.org/pandas-docs/stable/user_guide/indexing.html#returning-a-view-versus-a-copy\n",
      "  \"\"\"Entry point for launching an IPython kernel.\n"
     ]
    }
   ],
   "source": [
    "df['Annual gross base pay'] = df['Annual gross base pay'].apply(lambda x: x/1000)"
   ]
  },
  {
   "cell_type": "code",
   "execution_count": 71,
   "metadata": {},
   "outputs": [],
   "source": [
    "df.to_csv('data.csv', index=False)"
   ]
  },
  {
   "cell_type": "code",
   "execution_count": 72,
   "metadata": {},
   "outputs": [
    {
     "name": "stderr",
     "output_type": "stream",
     "text": [
      "/Library/Frameworks/Python.framework/Versions/3.6/lib/python3.6/site-packages/ipykernel_launcher.py:1: SettingWithCopyWarning: \n",
      "A value is trying to be set on a copy of a slice from a DataFrame.\n",
      "Try using .loc[row_indexer,col_indexer] = value instead\n",
      "\n",
      "See the caveats in the documentation: http://pandas.pydata.org/pandas-docs/stable/user_guide/indexing.html#returning-a-view-versus-a-copy\n",
      "  \"\"\"Entry point for launching an IPython kernel.\n",
      "/Library/Frameworks/Python.framework/Versions/3.6/lib/python3.6/site-packages/ipykernel_launcher.py:2: SettingWithCopyWarning: \n",
      "A value is trying to be set on a copy of a slice from a DataFrame.\n",
      "Try using .loc[row_indexer,col_indexer] = value instead\n",
      "\n",
      "See the caveats in the documentation: http://pandas.pydata.org/pandas-docs/stable/user_guide/indexing.html#returning-a-view-versus-a-copy\n",
      "  \n",
      "/Library/Frameworks/Python.framework/Versions/3.6/lib/python3.6/site-packages/ipykernel_launcher.py:3: SettingWithCopyWarning: \n",
      "A value is trying to be set on a copy of a slice from a DataFrame.\n",
      "Try using .loc[row_indexer,col_indexer] = value instead\n",
      "\n",
      "See the caveats in the documentation: http://pandas.pydata.org/pandas-docs/stable/user_guide/indexing.html#returning-a-view-versus-a-copy\n",
      "  This is separate from the ipykernel package so we can avoid doing imports until\n",
      "/Library/Frameworks/Python.framework/Versions/3.6/lib/python3.6/site-packages/ipykernel_launcher.py:4: SettingWithCopyWarning: \n",
      "A value is trying to be set on a copy of a slice from a DataFrame.\n",
      "Try using .loc[row_indexer,col_indexer] = value instead\n",
      "\n",
      "See the caveats in the documentation: http://pandas.pydata.org/pandas-docs/stable/user_guide/indexing.html#returning-a-view-versus-a-copy\n",
      "  after removing the cwd from sys.path.\n"
     ]
    }
   ],
   "source": [
    "df['Signing bonus'] = df['Signing bonus'].apply(lambda x: x/1000)\n",
    "df['Value of bonus'] = df['Value of bonus'].apply(lambda x: x/1000)\n",
    "df['Value of initial stock'] = df['Value of initial stock'].apply(lambda x: x/1000)\n",
    "df['Value of additional stock'] = df['Value of additional stock'].apply(lambda x: x/1000)\n",
    "df.to_csv('data.csv', index=False)"
   ]
  },
  {
   "cell_type": "code",
   "execution_count": 73,
   "metadata": {},
   "outputs": [
    {
     "data": {
      "text/plain": [
       "0      19.0\n",
       "1      36.0\n",
       "2       NaN\n",
       "5      23.0\n",
       "7      25.0\n",
       "       ... \n",
       "535    25.0\n",
       "536     NaN\n",
       "537    29.0\n",
       "538    30.0\n",
       "539    25.0\n",
       "Name: Age, Length: 413, dtype: float64"
      ]
     },
     "execution_count": 73,
     "metadata": {},
     "output_type": "execute_result"
    }
   ],
   "source": [
    "df['Age']"
   ]
  },
  {
   "cell_type": "code",
   "execution_count": null,
   "metadata": {},
   "outputs": [],
   "source": []
  }
 ],
 "metadata": {
  "kernelspec": {
   "display_name": "Python 3",
   "language": "python",
   "name": "python3"
  },
  "language_info": {
   "codemirror_mode": {
    "name": "ipython",
    "version": 3
   },
   "file_extension": ".py",
   "mimetype": "text/x-python",
   "name": "python",
   "nbconvert_exporter": "python",
   "pygments_lexer": "ipython3",
   "version": "3.6.6"
  }
 },
 "nbformat": 4,
 "nbformat_minor": 2
}
